{
 "cells": [
  {
   "cell_type": "code",
   "execution_count": 1,
   "metadata": {},
   "outputs": [
    {
     "name": "stderr",
     "output_type": "stream",
     "text": [
      "  Could not find a version that satisfies the requirement tensorflow==2.0.0-alpha0 (from versions: )\n",
      "No matching distribution found for tensorflow==2.0.0-alpha0\n"
     ]
    }
   ],
   "source": [
    "from __future__ import absolute_import, division, print_function, unicode_literals\n",
    "!pip install -q tensorflow==2.0.0-alpha0\n",
    "import tensorflow as tf\n",
    "\n",
    "# 我们将生成注意力分布图，以查看我们的模型\n",
    "# 在生成字幕期间重点关注哪些图像区域\n",
    "import matplotlib.pyplot as plt\n",
    "\n",
    "# Scikit-learn 包含许多有用的实用工具\n",
    "from sklearn.model_selection import train_test_split\n",
    "from sklearn.utils import shuffle\n",
    "\n",
    "import re\n",
    "import numpy as np\n",
    "import os\n",
    "import time\n",
    "import json\n",
    "from glob import glob\n",
    "from PIL import Image\n",
    "import pickle"
   ]
  },
  {
   "cell_type": "code",
   "execution_count": null,
   "metadata": {},
   "outputs": [
    {
     "name": "stdout",
     "output_type": "stream",
     "text": [
      "Downloading data from http://images.cocodataset.org/annotations/annotations_trainval2014.zip\n",
      "   245760/252872794 [..............................] - ETA: 10:01:31"
     ]
    }
   ],
   "source": [
    "annotation_zip = tf.keras.utils.get_file('captions.zip',\n",
    "                                          cache_subdir=os.path.abspath('.'),\n",
    "                                          origin = 'http://images.cocodataset.org/annotations/annotations_trainval2014.zip',\n",
    "                                          extract = True)\n",
    "annotation_file = os.path.dirname(annotation_zip)+'/annotations/captions_train2014.json'\n",
    "\n",
    "name_of_zip = 'train2014.zip'\n",
    "if not os.path.exists(os.path.abspath('.') + '/' + name_of_zip):\n",
    "  image_zip = tf.keras.utils.get_file(name_of_zip,\n",
    "                                      cache_subdir=os.path.abspath('.'),\n",
    "                                      origin = 'http://images.cocodataset.org/zips/train2014.zip',\n",
    "                                      extract = True)\n",
    "  PATH = os.path.dirname(image_zip)+'/train2014/'\n",
    "else:\n",
    "  PATH = os.path.abspath('.')+'/train2014/'"
   ]
  }
 ],
 "metadata": {
  "kernelspec": {
   "display_name": "Python 3",
   "language": "python",
   "name": "python3"
  },
  "language_info": {
   "codemirror_mode": {
    "name": "ipython",
    "version": 3
   },
   "file_extension": ".py",
   "mimetype": "text/x-python",
   "name": "python",
   "nbconvert_exporter": "python",
   "pygments_lexer": "ipython3",
   "version": "3.6.2"
  }
 },
 "nbformat": 4,
 "nbformat_minor": 2
}
