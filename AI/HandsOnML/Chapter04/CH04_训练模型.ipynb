{
 "cells": [
  {
   "cell_type": "markdown",
   "metadata": {},
   "source": [
    "# 第四章：训练模型"
   ]
  },
  {
   "cell_type": "markdown",
   "metadata": {},
   "source": [
    "前几章讨论的几个模型都不知道具体的实施细节。这一章，将从**线性回归模型**开始。\n",
    "\n",
    "* 一：介绍两种非常不同的训练模型的方法。  \n",
    "    * 1、通过“闭式”方程——直接计算出最适合训练集的模型参数（也就是使训练集上的成本函数最小化的模型参数）  \n",
    "    * 2、使用迭代优化的方法，即梯度下降（`GD`），逐渐调整模型参数直至训练集上的成本函数调至最低，最终趋同于第一种方法计算出来的模型参数。也会研究几个梯度下降的变体，包括批量梯度下降、小批量梯度下降以及随机梯度下降。  \n",
    "\n",
    "* 二：进行多项式回归的讨论，这是一个更为复杂的模型，更适合非线性数据集。由于该模型的参数比线性模型更多，因此更容易造成对训练数据过度拟合，我们将使用学习曲线来分辨这种情况是否发生，然后再介绍几种正则化方法，降低过度拟合训练数据的风险。\n",
    "\n",
    "* 三：学习两种经常用于分类任务的模型：`Logistic`回归和`Softmax`回归。\n",
    "\n",
    "了解这些系统如何工作非常有帮助。针对你的任务，它有助于快速定位到合适的模型，正确的训练算法，以及一套适当的超参数。不仅如此，后期还能更高效的执行错误调试和错误分析。"
   ]
  },
  {
   "cell_type": "markdown",
   "metadata": {},
   "source": [
    "## 准备工作"
   ]
  },
  {
   "cell_type": "code",
   "execution_count": null,
   "metadata": {},
   "outputs": [],
   "source": [
    "# Python ≥3.5 is required\n",
    "import sys\n",
    "assert sys.version_info >= (3, 5)\n",
    "\n",
    "# Scikit-Learn ≥0.20 is required\n",
    "import sklearn\n",
    "assert sklearn.__version__ >= \"0.20\"\n",
    "\n",
    "# Common imports\n",
    "import numpy as np\n",
    "import os\n",
    "\n",
    "# to make this notebook's output stable across runs\n",
    "np.random.seed(42)\n",
    "\n",
    "# To plot pretty figures\n",
    "%matplotlib inline\n",
    "import matplotlib as mpl\n",
    "import matplotlib.pyplot as plt\n",
    "mpl.rc('axes', labelsize=14)\n",
    "mpl.rc('xtick', labelsize=12)\n",
    "mpl.rc('ytick', labelsize=12)\n",
    "\n",
    "# Where to save the figures\n",
    "PROJECT_ROOT_DIR = \".\"\n",
    "CHAPTER_ID = \"classification\"\n",
    "IMAGES_PATH = os.path.join(PROJECT_ROOT_DIR, \"images\", CHAPTER_ID)\n",
    "os.makedirs(IMAGES_PATH, exist_ok=True)\n",
    "\n",
    "def save_fig(fig_id, tight_layout=True, fig_extension=\"png\", resolution=300):\n",
    "    path = os.path.join(IMAGES_PATH, fig_id + \".\" + fig_extension)\n",
    "    print(\"Saving figure\", fig_id)\n",
    "    if tight_layout:\n",
    "        plt.tight_layout()\n",
    "    plt.savefig(path, format=fig_extension, dpi=resolution)"
   ]
  },
  {
   "cell_type": "markdown",
   "metadata": {},
   "source": [
    "## 线性回归"
   ]
  },
  {
   "cell_type": "markdown",
   "metadata": {},
   "source": [
    "在第1章中，学过一个简单的生活满意度的回归模型：life_satisfaction=$\\theta_{0}+\\theta_{1} \\times G D P_{-}$ per capita.\n",
    "\n",
    "这个模型就是输入特征`GDP_per_capita`的线性函数，$\\theta_{0}$和$\\theta_{1}$是模型的参数。  \n",
    "更为概括的说，线性模型就是对输入特征加权求和，再加上一个偏置项（也称为截距项）的常数。  \n",
    "公式如下：  \n",
    "<center>$\\hat{y}=\\theta_{0}+\\theta_{1} x_{1}+\\theta_{2} x_{2}+\\cdots+\\theta_{n} x_{n}$</center>\n",
    "\n",
    "* $\\hat{y}$是预测值  \n",
    "\n",
    "* $n$是特征的数量  \n",
    "\n",
    "* $x_{\\mathrm{i}}$是第$i$个特征值\n",
    "\n",
    "* $\\theta_{j}$是第$j$个模型参数（包括偏执项$\\theta_{0}$以及特征权重$\\theta_{1}$,$\\theta_{2}$,···,$\\theta_{n}$）\n",
    "\n",
    "这也可以用更为简单的向量化形式表达，公式如下：  \n",
    "<center>$\\hat{y}=h_{\\theta}(\\mathbf{x})=\\theta^{T} \\cdot \\mathbf{x}$</center>\n",
    "\n",
    "* $\\theta$是模型的参数向量，包括偏置项$\\theta_{0}$以及特征权重$\\theta_{1}$到$\\theta_{n}$\n",
    "\n",
    "* $\\theta^{T}$是$\\theta$的转置向量\n",
    "\n",
    "* $\\mathbf{X}$是实例的特征向量，包括从$x_{0}$到$x_{n}$，$x_{0}$永远为1\n",
    "\n",
    "* $\\theta^{T} \\cdot \\mathbf{x}$是$\\theta^{T}$和$\\mathbf{X}$的点积\n",
    "\n",
    "* $h_{\\theta}$是使用模型参数$\\theta$的假设函数"
   ]
  },
  {
   "cell_type": "markdown",
   "metadata": {},
   "source": [
    "训练模型就是设置模型参数直到模型最适应训练集的过程。要达到这个目的，首先需要知道怎么衡量模型对训练数据的拟合程度是好还是差。在第2章中，我们了解到回归模型最常见的性能指标是均方根误差（`RMSE`）。因此，在训练线性回归模型时，需要找到最小化`RMSE`的$\\theta$值，在实践中，将均方误差（`MSE`）最小化比最小化`RMSE`更为简单，二者效果相同（因为使函数最小化的值，同样也使其平方根最小。）<sup>注1</sup>\n",
    "\n",
    "在训练集$\\mathbf{X}$上，使用如下公式计算线性回归的`MSE`，$h_{\\theta}$为假设函数  \n",
    "<center>$\\operatorname{MSE}\\left(\\mathbf{X}, h_{\\theta}\\right)=\\frac{1}{m} \\sum_{i=1}^{m}\\left(\\theta^{T} \\cdot \\mathbf{x}^{(i)}-y^{(i)}\\right)^{2}$</center>\n",
    "\n",
    "注1：通常情况下，学习算法优化的函数都与评估最终模型时使用的性能指标函数不同。这可能是1、前者更容易计算；2、前者具有某些后者缺乏的差异属性；3、想在训练期间约束模型。"
   ]
  },
  {
   "cell_type": "markdown",
   "metadata": {},
   "source": [
    "## 标准方程"
   ]
  },
  {
   "cell_type": "markdown",
   "metadata": {},
   "source": []
  },
  {
   "cell_type": "code",
   "execution_count": null,
   "metadata": {},
   "outputs": [],
   "source": []
  },
  {
   "cell_type": "code",
   "execution_count": null,
   "metadata": {},
   "outputs": [],
   "source": []
  }
 ],
 "metadata": {
  "kernelspec": {
   "display_name": "Python 3",
   "language": "python",
   "name": "python3"
  },
  "language_info": {
   "codemirror_mode": {
    "name": "ipython",
    "version": 3
   },
   "file_extension": ".py",
   "mimetype": "text/x-python",
   "name": "python",
   "nbconvert_exporter": "python",
   "pygments_lexer": "ipython3",
   "version": "3.6.8"
  }
 },
 "nbformat": 4,
 "nbformat_minor": 2
}
