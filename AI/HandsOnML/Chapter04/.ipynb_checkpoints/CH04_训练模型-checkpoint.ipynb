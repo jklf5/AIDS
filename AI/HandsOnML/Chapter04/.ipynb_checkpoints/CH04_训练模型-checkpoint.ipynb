{
 "cells": [
  {
   "cell_type": "markdown",
   "metadata": {},
   "source": [
    "# 第四章：训练模型"
   ]
  },
  {
   "cell_type": "markdown",
   "metadata": {},
   "source": [
    "前几章讨论的几个模型都不知道具体的实施细节。\n",
    "\n",
    "* 一：这一章，将从**线性回归模型**开始。介绍两种非常不同的训练模型的方法。  \n",
    "    * 1、通过“闭式”方程——直接计算出最适合训练集的模型参数（也就是使训练集上的成本函数最小化的模型参数）  \n",
    "    * 2、使用迭代优化的方法，即梯度下降（`GD`），逐渐调整模型参数直至训练集上的成本函数调至最低，最终趋同于第一种方法计算出来的模型参数。也会研究几个梯度下降的变体，包括批量梯度下降、小批量梯度下降以及随机梯度下降。  \n",
    "\n",
    "* 二：进行多项式回归的讨论，这是一个更为复杂的模型，更适合非线性数据集。由于该模型的参数比线性模型更多，因此更容易造成对训练数据过度拟合，我们将使用学习曲线来分辨这种情况是否发生，然后再介绍几种正则化方法，降低过度拟合训练数据的风险。\n",
    "\n",
    "* 三：学习两种经常用于分类任务的模型：`Logistic`回归和`Softmax`回归。\n",
    "\n",
    "了解这些系统如何工作非常有帮助。针对你的任务，它有助于快速定位到合适的模型，正确的训练算法，以及一套适当的超参数。不仅如此，后期还能更高效的执行错误调试和错误分析。"
   ]
  },
  {
   "cell_type": "markdown",
   "metadata": {},
   "source": [
    "## 准备工作"
   ]
  },
  {
   "cell_type": "code",
   "execution_count": 17,
   "metadata": {},
   "outputs": [],
   "source": [
    "# Python ≥3.5 is required\n",
    "import sys\n",
    "assert sys.version_info >= (3, 5)\n",
    "\n",
    "# Scikit-Learn ≥0.20 is required\n",
    "import sklearn\n",
    "assert sklearn.__version__ >= \"0.20\"\n",
    "\n",
    "# Common imports\n",
    "import numpy as np\n",
    "import os\n",
    "\n",
    "# to make this notebook's output stable across runs\n",
    "np.random.seed(42)\n",
    "\n",
    "# To plot pretty figures\n",
    "%matplotlib inline\n",
    "import matplotlib as mpl\n",
    "import matplotlib.pyplot as plt\n",
    "mpl.rc('axes', labelsize=14)\n",
    "mpl.rc('xtick', labelsize=12)\n",
    "mpl.rc('ytick', labelsize=12)\n",
    "\n",
    "# Where to save the figures\n",
    "PROJECT_ROOT_DIR = \".\"\n",
    "# CHAPTER_ID = \"classification\"\n",
    "IMAGES_PATH = os.path.join(PROJECT_ROOT_DIR, \"images\") # , CHAPTER_ID\n",
    "os.makedirs(IMAGES_PATH, exist_ok=True)\n",
    "\n",
    "# 存图片时，要先存（save_fig），再展示（show）\n",
    "def save_fig(fig_id, tight_layout=True, fig_extension=\"png\", resolution=300):\n",
    "    path = os.path.join(IMAGES_PATH, fig_id + \".\" + fig_extension)\n",
    "    print(\"Saving figure\", fig_id)\n",
    "    if tight_layout:\n",
    "        plt.tight_layout()\n",
    "    plt.savefig(path, format=fig_extension, dpi=resolution)"
   ]
  },
  {
   "cell_type": "markdown",
   "metadata": {},
   "source": [
    "## 线性回归"
   ]
  },
  {
   "cell_type": "markdown",
   "metadata": {},
   "source": [
    "在第1章中，学过一个简单的生活满意度的回归模型：life_satisfaction=$\\theta_{0}+\\theta_{1} \\times G D P_{-}$ per capita.\n",
    "\n",
    "这个模型就是输入特征`GDP_per_capita`的线性函数，$\\theta_{0}$和$\\theta_{1}$是模型的参数。  \n",
    "更为概括的说，线性模型就是对输入特征加权求和，再加上一个偏置项（也称为截距项）的常数。  \n",
    "公式如下：  \n",
    "<center>$\\hat{y}=\\theta_{0}+\\theta_{1} x_{1}+\\theta_{2} x_{2}+\\cdots+\\theta_{n} x_{n}$</center>\n",
    "\n",
    "* $\\hat{y}$是预测值  \n",
    "\n",
    "* $n$是特征的数量  \n",
    "\n",
    "* $x_{\\mathrm{i}}$是第$i$个特征值\n",
    "\n",
    "* $\\theta_{j}$是第$j$个模型参数（包括偏执项$\\theta_{0}$以及特征权重$\\theta_{1}$,$\\theta_{2}$,···,$\\theta_{n}$）\n",
    "\n",
    "这也可以用更为简单的向量化形式表达，公式如下：  \n",
    "<center>$\\hat{y}=h_{\\theta}(\\mathbf{x})=\\theta^{T} \\cdot \\mathbf{x}$</center>\n",
    "\n",
    "* $\\theta$是模型的参数向量，包括偏置项$\\theta_{0}$以及特征权重$\\theta_{1}$到$\\theta_{n}$\n",
    "\n",
    "* $\\theta^{T}$是$\\theta$的转置向量\n",
    "\n",
    "* $\\mathbf{X}$是实例的特征向量，包括从$x_{0}$到$x_{n}$，$x_{0}$永远为1\n",
    "\n",
    "* $\\theta^{T} \\cdot \\mathbf{x}$是$\\theta^{T}$和$\\mathbf{X}$的点积\n",
    "\n",
    "* $h_{\\theta}$是使用模型参数$\\theta$的假设函数"
   ]
  },
  {
   "cell_type": "markdown",
   "metadata": {},
   "source": [
    "训练模型就是设置模型参数直到模型最适应训练集的过程。要达到这个目的，首先需要知道怎么衡量模型对训练数据的拟合程度是好还是差。在第2章中，我们了解到回归模型最常见的性能指标是均方根误差（`RMSE`）。因此，在训练线性回归模型时，需要找到最小化`RMSE`的$\\theta$值，在实践中，将均方误差（`MSE`）最小化比最小化`RMSE`更为简单，二者效果相同（因为使函数最小化的值，同样也使其平方根最小。）<sup>注1</sup>\n",
    "\n",
    "在训练集$\\mathbf{X}$上，使用如下公式计算线性回归的`MSE`，$h_{\\theta}$为假设函数  \n",
    "<center>$\\operatorname{MSE}\\left(\\mathbf{X}, h_{\\theta}\\right)=\\frac{1}{m} \\sum_{i=1}^{m}\\left(\\theta^{T} \\cdot \\mathbf{x}^{(i)}-y^{(i)}\\right)^{2}$</center>\n",
    "\n",
    "注1：通常情况下，学习算法优化的函数都与评估最终模型时使用的性能指标函数不同。这可能是1、前者更容易计算；2、前者具有某些后者缺乏的差异属性；3、想在训练期间约束模型。"
   ]
  },
  {
   "cell_type": "markdown",
   "metadata": {},
   "source": [
    "### 标准方程"
   ]
  },
  {
   "cell_type": "markdown",
   "metadata": {},
   "source": [
    "提供一个闭式解方法（直接得出结果的数学方程--标准方程）\n",
    "\n",
    "<center>$\\widehat{\\theta}=\\left(X^{T} \\cdot X\\right)^{-1} \\cdot X^{T} \\cdot \\mathrm{y}$</center>\n",
    "\n",
    "* $\\widehat{\\theta}$是使成本函数最小的${\\theta}$值\n",
    "* $y$是包含$y^{(1)}$到$y^{(m)}$的目标值向量\n",
    "\n",
    "生成一些线性数据来测试这个公式"
   ]
  },
  {
   "cell_type": "code",
   "execution_count": 5,
   "metadata": {},
   "outputs": [
    {
     "data": {
      "text/plain": [
       "array([[3.91815549],\n",
       "       [3.08762271]])"
      ]
     },
     "execution_count": 5,
     "metadata": {},
     "output_type": "execute_result"
    }
   ],
   "source": [
    "import numpy as np\n",
    "X = 2 * np.random.rand(100, 1)\n",
    "y = 4 + 3 * X + np.random.randn(100, 1)\n",
    "\n",
    "# 接下来计算theta_hat，使用np.linalg中的inv()函数来对矩阵求逆，并用dot()方法计算矩阵的内积\n",
    "X_b = np.c_[np.ones((100, 1)), X]\n",
    "theta_best = np.linalg.inv(X_b.T.dot(X_b)).dot(X_b.T).dot(y)\n",
    "theta_best"
   ]
  },
  {
   "cell_type": "markdown",
   "metadata": {},
   "source": [
    "用来生成数据的函数是$y=4+3x_{0}+高斯噪声$，期望得到的${\\theta_{0}}=4$，${\\theta_{1}}=3$，实际得到的结果是${\\theta_{0}}=3.815$，${\\theta_{1}}=3.184$。这两个结果非常接近（因为存在高斯噪声的缘故不可能完全一样）。\n",
    "\n",
    "下面用$\\widehat{\\theta}$做预测"
   ]
  },
  {
   "cell_type": "code",
   "execution_count": 8,
   "metadata": {},
   "outputs": [
    {
     "data": {
      "text/plain": [
       "array([[ 3.91815549],\n",
       "       [10.09340091]])"
      ]
     },
     "execution_count": 8,
     "metadata": {},
     "output_type": "execute_result"
    }
   ],
   "source": [
    "X_new = np.array([[0], [2]])\n",
    "X_new_b = np.c_[np.ones((2, 1)), X_new]\n",
    "y_predict = X_new_b.dot(theta_best)\n",
    "y_predict"
   ]
  },
  {
   "cell_type": "code",
   "execution_count": 19,
   "metadata": {},
   "outputs": [
    {
     "name": "stdout",
     "output_type": "stream",
     "text": [
      "Saving figure 预测随机生成的线性数据\n"
     ]
    },
    {
     "data": {
      "image/png": "[encoded data removed]",
      "text/plain": [
       "<Figure size 432x288 with 1 Axes>"
      ]
     },
     "metadata": {
      "needs_background": "light"
     },
     "output_type": "display_data"
    }
   ],
   "source": [
    "# 绘制模型的预测情况\n",
    "plt.plot(X_new, y_predict, \"r-\")\n",
    "plt.plot(X, y, \"b.\")\n",
    "plt.axis([0, 2, 0, 15])\n",
    "save_fig(\"预测随机生成的线性数据\")\n",
    "plt.show()"
   ]
  },
  {
   "cell_type": "code",
   "execution_count": 21,
   "metadata": {},
   "outputs": [
    {
     "data": {
      "text/plain": [
       "(array([3.91815549]), array([[3.08762271]]))"
      ]
     },
     "execution_count": 21,
     "metadata": {},
     "output_type": "execute_result"
    }
   ],
   "source": [
    "# Scikit-Learn 的等效代码：\n",
    "from sklearn.linear_model import LinearRegression\n",
    "lin_reg = LinearRegression()\n",
    "lin_reg.fit(X, y)\n",
    "lin_reg.intercept_, lin_reg.coef_"
   ]
  },
  {
   "cell_type": "code",
   "execution_count": 22,
   "metadata": {},
   "outputs": [
    {
     "data": {
      "text/plain": [
       "array([[ 3.91815549],\n",
       "       [10.09340091]])"
      ]
     },
     "execution_count": 22,
     "metadata": {},
     "output_type": "execute_result"
    }
   ],
   "source": [
    "lin_reg.predict(X_new)"
   ]
  },
  {
   "cell_type": "markdown",
   "metadata": {},
   "source": [
    "### 计算复杂度"
   ]
  },
  {
   "cell_type": "markdown",
   "metadata": {},
   "source": [
    "标准方程的计算复杂度通常为$O(n^{2.4})$到$O(n^{3})$之间。所以，当特征向量翻倍时，计算时间大约在$2^{2.4}=5.3$到$2^{3}=8$倍之间。\n",
    "\n",
    "好的一方面是，对于训练集中的实例数量来说，方程是线性的，所以能够有效地处理大量的训练集（只要内存足够）。"
   ]
  },
  {
   "cell_type": "markdown",
   "metadata": {},
   "source": [
    "接下来，看几个适合特征数或者训练实例数量大到内存无法满足要求时的模型训练方法。"
   ]
  },
  {
   "cell_type": "markdown",
   "metadata": {},
   "source": [
    "## 梯度下降"
   ]
  },
  {
   "cell_type": "markdown",
   "metadata": {},
   "source": [
    "梯度下降能够为大范围的问题找到最优解：通过测量参数向量${\\theta}$相关的误差函数的局部梯度，并不断沿着降低梯度的方向调整，直到梯度降为0，到达最小值。\n",
    "\n",
    "具体来说，首先使用一个随机的${\\theta}$值（随机初始化），然后逐步改进，每次踏出一步，每一步都尝试降低一点成本函数，知道算法收敛出一个最小值。\n",
    "<img src=\"./images/Book/梯度下降.jpg\" width=\"50%\" height=\"50%\"></img>\n",
    "\n",
    "**存在的问题：**\n",
    "* 当学习率太低时，算法需要经过大量迭代才能收敛，将耗费很长时间\n",
    "* 如果学习率太高，会导致算法发散，值越来越大。\n",
    "* 并不是所有的成本函数都像一个漂亮的碗，不同形状的成本函数会收敛到一个局部最小值而不是全局最小值。\n",
    "\n",
    "    幸好，线性回归模型的成本函数恰好是一个凸函数，也就是说不存在局部最小，只有一个全局最小值。同时他也是一个连续函数，所以斜率不会产生陡峭的变化。**结论**：即便是乱走，梯度下降都可以趋近到全局最小值。\n",
    "* 成本函数虽然是碗状的，但如果不同特征的尺寸差别巨大，那它可能是一个非常细小的碗，这将导致收敛缓慢。**所以要保证所有特征值的大小比例都差不多**\n",
    "* 模型的参数越多，这个空间的维度就越多，搜索就越难。"
   ]
  },
  {
   "cell_type": "markdown",
   "metadata": {},
   "source": [
    "### 批量梯度下降"
   ]
  },
  {
   "cell_type": "markdown",
   "metadata": {},
   "source": []
  },
  {
   "cell_type": "code",
   "execution_count": null,
   "metadata": {},
   "outputs": [],
   "source": []
  },
  {
   "cell_type": "code",
   "execution_count": null,
   "metadata": {},
   "outputs": [],
   "source": []
  },
  {
   "cell_type": "code",
   "execution_count": null,
   "metadata": {},
   "outputs": [],
   "source": []
  }
 ],
 "metadata": {
  "kernelspec": {
   "display_name": "Python 3",
   "language": "python",
   "name": "python3"
  },
  "language_info": {
   "codemirror_mode": {
    "name": "ipython",
    "version": 3
   },
   "file_extension": ".py",
   "mimetype": "text/x-python",
   "name": "python",
   "nbconvert_exporter": "python",
   "pygments_lexer": "ipython3",
   "version": "3.6.8"
  },
  "latex_envs": {
   "LaTeX_envs_menu_present": true,
   "autoclose": false,
   "autocomplete": true,
   "bibliofile": "biblio.bib",
   "cite_by": "apalike",
   "current_citInitial": 1,
   "eqLabelWithNumbers": true,
   "eqNumInitial": 1,
   "hotkeys": {
    "equation": "Ctrl-E",
    "itemize": "Ctrl-I"
   },
   "labels_anchors": false,
   "latex_user_defs": false,
   "report_style_numbering": false,
   "user_envs_cfg": false
  },
  "toc": {
   "base_numbering": 1,
   "nav_menu": {},
   "number_sections": true,
   "sideBar": true,
   "skip_h1_title": false,
   "title_cell": "Table of Contents",
   "title_sidebar": "Contents",
   "toc_cell": false,
   "toc_position": {},
   "toc_section_display": true,
   "toc_window_display": true
  }
 },
 "nbformat": 4,
 "nbformat_minor": 2
}
